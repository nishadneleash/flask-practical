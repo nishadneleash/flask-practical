{
  "nbformat": 4,
  "nbformat_minor": 0,
  "metadata": {
    "colab": {
      "provenance": []
    },
    "kernelspec": {
      "name": "python3",
      "display_name": "Python 3"
    },
    "language_info": {
      "name": "python"
    }
  },
  "cells": [
    {
      "cell_type": "markdown",
      "source": [
        "1. What is a RESTful API?\n",
        "A RESTful API is an interface that follows REST (Representational State Transfer) architectural style, using HTTP methods to perform operations on resources represented by URLs.\n",
        "\n",
        "2. Explain the concept of API specification.\n",
        "An API specification clearly defines endpoints, methods, request/response schemas, authentication, and error handling for consistent integration between systems (e.g., OpenAPI Specification).\n",
        "\n",
        "3. What is Flask, and why is it popular for building APIs?\n",
        "Flask is a lightweight Python web framework known for its simplicity, flexibility, easy routing, and powerful ecosystem, making it ideal for building web APIs quickly.\n",
        "\n",
        "4. What is routing in Flask?\n",
        "Routing is the process of mapping URLs to Python functions (view functions) using the @app.route() decorator in Flask.\n",
        "\n",
        "5. How do you create a simple Flask application?\n",
        "\n",
        "python\n",
        "from flask import Flask\n",
        "app = Flask(__name__)\n",
        "\n",
        "@app.route(\"/\")\n",
        "def hello():\n",
        "    return \"Hello World!\"\n",
        "6. What are HTTP methods used in RESTful APIs?\n",
        "Common methods: GET (read), POST (create), PUT (update/replace), PATCH (partial update), DELETE (remove).\n",
        "\n",
        "7. What is the purpose of the @app.route() decorator in Flask?\n",
        "Defines the mapping between a URL endpoint and a Python function to handle requests to that endpoint.\n",
        "\n",
        "8. What is the difference between GET and POST HTTP methods?\n",
        "GET retrieves data and is idempotent, while POST submits data and can change server state (e.g., create new records).\n",
        "\n",
        "9. How do you handle errors in Flask APIs?\n",
        "Use @app.errorhandler() for custom error responses, return appropriate HTTP status codes, and descriptive messages.\n",
        "\n",
        "10. How do you connect Flask to a SQL database?\n",
        "Using an ORM like SQLAlchemy, or a database driver (e.g., sqlite3, psycopg2). Example—SQLAlchemy:\n",
        "\n",
        "python\n",
        "from flask_sqlalchemy import SQLAlchemy\n",
        "db = SQLAlchemy(app)\n",
        "11. What is the role of Flask-SQLAlchemy?\n",
        "It's an ORM extension for Flask that provides high-level, Pythonic database operations and model management.\n",
        "\n",
        "12. What are Flask blueprints, and how are they useful?\n",
        "Blueprints modularize an app into components for better organization, allowing scalable route and feature grouping.\n",
        "\n",
        "13. What is the purpose of Flask’s request object?\n",
        "It provides access to incoming request data (parameters, form data, JSON, headers, files) via from flask import request.\n",
        "\n",
        "14. How do you create a RESTful API endpoint using Flask?\n",
        "\n",
        "python\n",
        "@app.route('/api/items', methods=['GET'])\n",
        "def get_items():\n",
        "    return jsonify(items)\n",
        "15. What is the purpose of Flask's jsonify() function?\n",
        "It turns Python dicts, lists, etc. into a proper JSON HTTP response with correct MIME type for APIs.\n",
        "\n",
        "16. Explain Flask’s url_for() function.\n",
        "Generates the URL of a view function by function name, helping with dynamic URL building and avoiding hardcoded paths.\n",
        "\n",
        "17. How does Flask handle static files (CSS, JavaScript, etc.)?\n",
        "By serving files from the /static/ directory; use url_for('static', filename='file.css') in templates.\n",
        "\n",
        "18. What is an API specification, and how does it help in building a Flask API?\n",
        "It acts as a contract, guiding implementation and ensuring uniform, predictable interfaces for developers and clients.\n",
        "\n",
        "19. What are HTTP status codes, and why are they important in a Flask API?\n",
        "They indicate outcome of requests (200 OK, 404 Not Found, 500 Error, etc.), making error handling and API usage clear.\n",
        "\n",
        "20. How do you handle POST requests in Flask?\n",
        "\n",
        "python\n",
        "@app.route('/api/create', methods=['POST'])\n",
        "def create():\n",
        "    data = request.get_json()\n",
        "    # process or save data\n",
        "21. How would you secure a Flask API?\n",
        "Use authentication (JWTs, OAuth), HTTPS, input validation, rate limiting, CORS, and secure headers.\n",
        "\n",
        "22. What is the significance of the Flask-RESTful extension?\n",
        "It simplifies building REST APIs in Flask with class-based resources, auto-parsing, and better error handling.\n",
        "\n",
        "23. What is the role of Flask's session object?\n",
        "Manages server-side user session data (e.g., login state) stored securely with a secret key.\n",
        "\n"
      ],
      "metadata": {
        "id": "v48lb9NeCKcD"
      }
    },
    {
      "cell_type": "markdown",
      "source": [
        "https://github.com/nishadneleash/flask-practical\n",
        "\n",
        "Flask practical using all questions\n"
      ],
      "metadata": {
        "id": "jm3sNoBfCMqK"
      }
    }
  ]
}
